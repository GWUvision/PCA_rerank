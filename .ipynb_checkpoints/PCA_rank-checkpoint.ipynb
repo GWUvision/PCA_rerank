{
 "cells": [
  {
   "cell_type": "code",
   "execution_count": 2,
   "metadata": {},
   "outputs": [],
   "source": [
    "import torch\n",
    "import torch.nn.functional as F"
   ]
  },
  {
   "cell_type": "code",
   "execution_count": 44,
   "metadata": {},
   "outputs": [],
   "source": [
    "def PCA(X, X_center):# X N by Dim; X_center Dim\n",
    "    # preprocess the data\n",
    "    X = X - X_center.expand_as(X)\n",
    "    # svd\n",
    "    U,S,V = torch.svd(torch.t(X))\n",
    "    return U.t(), torch.mul(S, S)/(X.size(0)-1)\n",
    "\n",
    "# Matrix Cosine Similarity\n",
    "def distMC(Mat_A, Mat_B, norm=1, cpu=False, sq=True):#N by F\n",
    "    N_A = Mat_A.size(0)\n",
    "    N_B = Mat_B.size(0)\n",
    "    DC = Mat_A.mm(torch.t(Mat_B))\n",
    "    return DC.fill_diagonal_(-norm)\n",
    "\n",
    "def mahalanobis(x, y, cov):\n",
    "    diff = x-y\n",
    "    covI = cov.inverse()\n",
    "    a = covI.matmul(diff.t())\n",
    "    b = diff.matmul(a)\n",
    "    return b.sqrt()\n",
    "\n",
    "def cov(m):# input Dim by N\n",
    "    m_exp = torch.mean(m, dim=1)\n",
    "    x = m - m_exp[:, None]\n",
    "    cov = x.mm(x.t()) / (x.size(1) - 1)\n",
    "    return cov\n"
   ]
  },
  {
   "cell_type": "code",
   "execution_count": 2,
   "metadata": {},
   "outputs": [],
   "source": [
    "tra_fvec = torch.load('data/39traFvecs.pth')\n",
    "val_fvec = torch.load('data/39valFvecs.pth')\n",
    "val_dset = torch.load('data/valdsets.pth')"
   ]
  },
  {
   "cell_type": "code",
   "execution_count": 65,
   "metadata": {},
   "outputs": [],
   "source": [
    "def resort(X_NN,X,rt=0.8):\n",
    "    N = X_NN.size(0)\n",
    "    Delta = X_NN - X.expand_as(X)#F.normalize(X_NN - X.expand_as(X), p = 2, dim = 1)\n",
    "    baseD = Delta[0,:].view(-1,1)\n",
    "    NN_list = [0]\n",
    "    NN_remn = torch.LongTensor([i for i in range(N)])\n",
    "    cosine = torch.zeros(N)\n",
    "    \n",
    "    for i in range(5):\n",
    "        Delta = Delta[1:,:]\n",
    "        NN_remn = NN_remn[1:]\n",
    "        \n",
    "        cosine = Delta.mm(baseD).view(-1)+cosine[1:]*0.1\n",
    "        val, idx = cosine.sort(0,descending=True)\n",
    "        \n",
    "        if i+1 in idx[:int(len(idx)*rt)].tolist():\n",
    "            NN_list.append(NN_remn[0].item())\n",
    "            baseD = Delta[0,:].view(-1,1)\n",
    "        else:\n",
    "            Delta = Delta[idx,:]\n",
    "            NN_remn = NN_remn[idx]\n",
    "            NN_list.append(NN_remn[0])\n",
    "            baseD = Delta[0,:].view(-1,1)\n",
    "\n",
    "    return torch.LongTensor(NN_list)"
   ]
  },
  {
   "cell_type": "code",
   "execution_count": 46,
   "metadata": {},
   "outputs": [],
   "source": [
    "def accnew(N_topk=10):\n",
    "    val_fvec = torch.load('data/39valFvecs.pth')\n",
    "    val_dset = torch.load('data/valdsets.pth')\n",
    "    N = val_fvec.size(0)\n",
    "    \n",
    "    # get the NN list\n",
    "    Dist = distMC(val_fvec,val_fvec)\n",
    "    NN_val, NN_idx = Dist.sort(1, descending=True)\n",
    "    \n",
    "    tp1 = 0\n",
    "    tp2 = 0\n",
    "    tp3 = 0\n",
    "    tp4 = 0\n",
    "    for i in range(N):\n",
    "        lab = val_dset.idx_to_class[i]\n",
    "        NN_list_i = NN_idx[i,:N_topk]\n",
    "        NN_list_i_resort_idx = resort(val_fvec[NN_list_i,:], val_fvec[i,:])\n",
    "        \n",
    "        NN_list_i_new = NN_list_i[NN_list_i_resort_idx]\n",
    "        \n",
    "        if lab == val_dset.idx_to_class[NN_list_i_new[0].item()]:\n",
    "            tp1+=1\n",
    "        if lab == val_dset.idx_to_class[NN_list_i_new[1].item()]:\n",
    "            tp2+=1\n",
    "        if lab == val_dset.idx_to_class[NN_list_i_new[2].item()]:\n",
    "            tp3+=1\n",
    "        if lab == val_dset.idx_to_class[NN_list_i_new[3].item()]:\n",
    "            tp4+=1\n",
    "\n",
    "    print(tp1/N,tp2/N,tp3/N,tp4/N)"
   ]
  },
  {
   "cell_type": "code",
   "execution_count": 66,
   "metadata": {},
   "outputs": [
    {
     "name": "stdout",
     "output_type": "stream",
     "text": [
      "0.7311523797810847 0.6533021768540155 0.628213011929652 0.596113639158775\n"
     ]
    }
   ],
   "source": [
    "accnew()"
   ]
  },
  {
   "cell_type": "code",
   "execution_count": null,
   "metadata": {},
   "outputs": [],
   "source": [
    "0.7311523797810847 0.6636330094699299 0.6259992620833845 0.6037387775181404"
   ]
  },
  {
   "cell_type": "code",
   "execution_count": 71,
   "metadata": {},
   "outputs": [],
   "source": [
    "def acc(N_top = 2, N_pca = 1, th = 0.7):\n",
    "    N = val_fvec.size(0)\n",
    "    \n",
    "    # get the NN list\n",
    "    Dist = distMC(val_fvec,val_fvec)\n",
    "    NN_val, NN_idx = Dist.sort(1, descending=True)\n",
    "    \n",
    "    # local pca for major direction\n",
    "    val_fvec_pca = []\n",
    "    for i in range(N):\n",
    "        NN_list_i = NN_idx[i,:N_top+1]\n",
    "        # pca n_component should less than nn size\n",
    "        comp = PCA(val_fvec[NN_list_i,:], val_fvec[i,:], k=N_pca)\n",
    "        val_fvec_pca.append(F.normalize(comp, p = 2, dim = 1))\n",
    "    val_fvec_pca_tensor = torch.stack(val_fvec_pca,0)\n",
    "\n",
    "    # balabala\n",
    "    tp1 = 0\n",
    "    tp2 = 0\n",
    "    for i in range(N):\n",
    "        lab = val_dset.idx_to_class[i]\n",
    "        NN_list_i = NN_idx[i,1:N_top+1]\n",
    "\n",
    "        NN_cos_i = []\n",
    "        for j in range(N_top):\n",
    "            NN_id = NN_list_i[j]\n",
    "            rel_proj = torch.mm(val_fvec_pca_tensor[NN_id,:,:], (val_fvec[i,:]-val_fvec[NN_id,:]).view(-1,1))\n",
    "            rel_dist = rel_proj.pow(2).sum().sqrt()\n",
    "            NN_cos_i.append(rel_dist)\n",
    "\n",
    "        NN_cos_i = torch.stack(NN_cos_i,0)\n",
    "\n",
    "        re_idx = NN_cos_i.sort(0,descending=True)[1]\n",
    "        re_rank_list = NN_list_i[re_idx].view(-1)\n",
    "        \n",
    "        if lab == val_dset.idx_to_class[NN_idx[i,0].item()]:\n",
    "            tp1+=1\n",
    "        if lab == val_dset.idx_to_class[re_rank_list[0].item()]:\n",
    "            tp2+=1\n",
    "\n",
    "    print(tp1/N,tp2/N)"
   ]
  },
  {
   "cell_type": "code",
   "execution_count": 76,
   "metadata": {},
   "outputs": [
    {
     "name": "stdout",
     "output_type": "stream",
     "text": [
      "0.7311523797810847 0.6630180789570779\n"
     ]
    }
   ],
   "source": [
    "# for t in [0.4,0.5,0.6,0.7,0.8,0.9]:\n",
    "acc(N_top = 2, N_pca = 1, th=t)"
   ]
  },
  {
   "cell_type": "code",
   "execution_count": null,
   "metadata": {},
   "outputs": [],
   "source": [
    "for j in range(5):\n",
    "    for i in range(1,j):\n",
    "        print(j,i)\n",
    "        acc(N_top = j, N_pca = i)"
   ]
  },
  {
   "cell_type": "code",
   "execution_count": null,
   "metadata": {},
   "outputs": [],
   "source": [
    "0.7316443241913664 0.6637559955725003"
   ]
  }
 ],
 "metadata": {
  "kernelspec": {
   "display_name": "Python 3",
   "language": "python",
   "name": "python3"
  },
  "language_info": {
   "codemirror_mode": {
    "name": "ipython",
    "version": 3
   },
   "file_extension": ".py",
   "mimetype": "text/x-python",
   "name": "python",
   "nbconvert_exporter": "python",
   "pygments_lexer": "ipython3",
   "version": "3.7.3"
  }
 },
 "nbformat": 4,
 "nbformat_minor": 2
}
